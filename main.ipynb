{
 "cells": [
  {
   "cell_type": "markdown",
   "metadata": {},
   "source": [
    "# Detecting Communities in the Reddit Hyperlink Dataset\n",
    "## For ECMM447 - Social Networks and Text Analysis\n",
    "\n"
   ]
  },
  {
   "cell_type": "code",
   "execution_count": 2,
   "metadata": {},
   "outputs": [],
   "source": [
    "# Import necessary libraries\n",
    "import numpy as np\n",
    "import pandas as pd\n",
    "import matplotlib.pyplot as plt\n",
    "import networkx as nx\n",
    "import urllib.request as req\n",
    "import os.path as path\n",
    "\n",
    "from collections.abc import Iterable\n",
    "from networkx.algorithms import community"
   ]
  },
  {
   "cell_type": "code",
   "execution_count": 3,
   "metadata": {},
   "outputs": [
    {
     "name": "stdout",
     "output_type": "stream",
     "text": [
      "Checking for 'soc-redditHyperlinks-body.tsv'...\n",
      "Found at Path: './data/soc-redditHyperlinks-body.tsv'!\n",
      "Checking for 'soc-redditHyperlinks-title.tsv'...\n",
      "Found at Path: './data/soc-redditHyperlinks-title.tsv'!\n",
      "Converting TSV to CSV file at: './data/soc-redditHyperlinks-title.csv'...\n",
      "Converted!\n",
      "Converting TSV to CSV file at: './data/soc-redditHyperlinks-body.csv'...\n",
      "Converted!\n",
      "Creating edgelist DataFrame...\n",
      "Done!\n",
      "Saving edge details to CSV file at: './data/redditHyperlinks-subredditsOnly.csv'...\n",
      "Saved!\n"
     ]
    }
   ],
   "source": [
    "# Downloads the Reddit Hyperlink dataset TSV file and saves it to ./data/\n",
    "url = 'https://snap.stanford.edu/data/soc-redditHyperlinks-body.tsv'\n",
    "body_save = \"./data/soc-redditHyperlinks-body.tsv\"\n",
    "print(\"Checking for 'soc-redditHyperlinks-body.tsv'...\")\n",
    "if not path.exists(body_save):\n",
    "    print(\"File not Found.\")\n",
    "    print(f\"Downloading 'soc-redditHyperlinks-body.tsv' from URL: '{url}'...\")\n",
    "    req.urlretrieve(url, body_save)\n",
    "else:\n",
    "    print(f\"Found at Path: '{body_save}'!\")\n",
    "\n",
    "url = 'https://snap.stanford.edu/data/soc-redditHyperlinks-title.tsv'\n",
    "title_save = \"./data/soc-redditHyperlinks-title.tsv\"\n",
    "print(\"Checking for 'soc-redditHyperlinks-title.tsv'...\")\n",
    "if not path.exists(title_save):\n",
    "    print(\"File not Found.\")\n",
    "    print(f\"Downloading 'soc-redditHyperlinks-title.tsv' from URL: '{url}'...\")\n",
    "    req.urlretrieve(url, title_save)\n",
    "    print(\"Done!\")\n",
    "else:\n",
    "    print(f\"Found at Path: '{title_save}'!\")\n",
    "    \n",
    "title_path = title_save\n",
    "body_path = body_save\n",
    "\n",
    "# Load the TSV files and convert to CSV files\n",
    "title_df = pd.read_table(title_path, sep=\"\\t\")\n",
    "title_csv = title_path[:-4] + \".csv\"\n",
    "print(f\"Converting TSV to CSV file at: '{title_csv}'...\")\n",
    "title_df.to_csv(title_csv)\n",
    "print(\"Converted!\")\n",
    "\n",
    "body_df = pd.read_table(body_path, sep='\\t')\n",
    "body_csv = body_path[:-4] + \".csv\"\n",
    "print(f\"Converting TSV to CSV file at: '{body_csv}'...\")\n",
    "body_df.to_csv(body_csv)\n",
    "print(\"Converted!\")\n",
    "\n",
    "# Load CSV files into DataFrames, concatenate them and extract Source/Target nodes\n",
    "body_df = pd.read_csv(body_csv)\n",
    "title_df = pd.read_csv(title_csv)\n",
    "\n",
    "print(\"Creating edgelist DataFrame...\")\n",
    "reddit_df = pd.concat([title_df, body_df]).reset_index(drop=True)\n",
    "reddit_df = reddit_df[[\"SOURCE_SUBREDDIT\", \"TARGET_SUBREDDIT\"]]\n",
    "print(\"Done!\")\n",
    "\n",
    "reddit_path = \"./data/redditHyperlinks-subredditsOnly.csv\"\n",
    "print(f\"Saving edge details to CSV file at: '{reddit_path}'...\")\n",
    "reddit_df.to_csv(reddit_path, index=False)\n",
    "print(\"Saved!\")"
   ]
  },
  {
   "cell_type": "code",
   "execution_count": null,
   "metadata": {},
   "outputs": [],
   "source": []
  }
 ],
 "metadata": {
  "kernelspec": {
   "display_name": "Python 3 (ipykernel)",
   "language": "python",
   "name": "python3"
  },
  "language_info": {
   "codemirror_mode": {
    "name": "ipython",
    "version": 3
   },
   "file_extension": ".py",
   "mimetype": "text/x-python",
   "name": "python",
   "nbconvert_exporter": "python",
   "pygments_lexer": "ipython3",
   "version": "3.9.7"
  }
 },
 "nbformat": 4,
 "nbformat_minor": 1
}
